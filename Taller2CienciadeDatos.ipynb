{
  "nbformat": 4,
  "nbformat_minor": 0,
  "metadata": {
    "colab": {
      "private_outputs": true,
      "provenance": []
    },
    "kernelspec": {
      "name": "python3",
      "display_name": "Python 3"
    },
    "language_info": {
      "name": "python"
    }
  },
  "cells": [
    {
      "cell_type": "markdown",
      "source": [
        "**Preparación de datos**"
      ],
      "metadata": {
        "id": "kkGWl5f-S18w"
      }
    },
    {
      "cell_type": "markdown",
      "source": [
        "*Importación de paquetes y librerías utilizadas en el ejercicio*\n",
        "\n"
      ],
      "metadata": {
        "id": "MGkH_L_4jxRE"
      }
    },
    {
      "cell_type": "code",
      "execution_count": null,
      "metadata": {
        "id": "jovrb8l4il5w"
      },
      "outputs": [],
      "source": [
        "import numpy as np\n",
        "import pandas as pd\n",
        "import numbers\n",
        "import statsmodels.api as sm\n",
        "import scipy.stats as stats\n",
        "from joblib import dump, load\n",
        "\n",
        "import matplotlib.pyplot as plt\n",
        "import seaborn as sns\n",
        "\n",
        "from sklearn.model_selection import train_test_split\n",
        "from sklearn.linear_model import LinearRegression\n",
        "from sklearn.pipeline import Pipeline\n",
        "from sklearn.compose import ColumnTransformer\n",
        "from sklearn.preprocessing import StandardScaler\n",
        "from sklearn.preprocessing import PolynomialFeatures\n",
        "from sklearn.metrics import mean_absolute_error, mean_squared_error, r2_score\n",
        "\n",
        "import scipy.stats as stats\n"
      ]
    },
    {
      "cell_type": "code",
      "source": [
        "df = pd.read_csv(\"./gapminder_taller.csv\", delimiter=\",\")"
      ],
      "metadata": {
        "id": "MKjsXbZ0iuuJ"
      },
      "execution_count": null,
      "outputs": []
    },
    {
      "cell_type": "code",
      "source": [
        "df.shape"
      ],
      "metadata": {
        "id": "K5Zy_Fp9jSgT"
      },
      "execution_count": null,
      "outputs": []
    },
    {
      "cell_type": "code",
      "source": [
        "df.dtypes"
      ],
      "metadata": {
        "id": "7BLH8X-3jZkD"
      },
      "execution_count": null,
      "outputs": []
    },
    {
      "cell_type": "code",
      "source": [
        "df.sample(5)"
      ],
      "metadata": {
        "id": "H8FHiS7mjskH"
      },
      "execution_count": null,
      "outputs": []
    },
    {
      "cell_type": "markdown",
      "source": [
        "*Calidad de datos: encontrar valores faltantes en la base*"
      ],
      "metadata": {
        "id": "1p9E3nVRLp9l"
      }
    },
    {
      "cell_type": "code",
      "source": [
        "for col in df.columns:\n",
        "\n",
        "    num_na = df[col].isna().sum()\n",
        "    num_non_num = df[col].apply(lambda x: not isinstance(x, numbers.Number)).sum()\n",
        "    print(f\"Columna: {col}\")\n",
        "    print(f\"Número de valores vacíos: {num_na}\")\n",
        "    print(f\"Número de valores no numéricos: {num_non_num}\")"
      ],
      "metadata": {
        "id": "51LVrZ9SrCse"
      },
      "execution_count": null,
      "outputs": []
    },
    {
      "cell_type": "markdown",
      "source": [
        "*Encontrar valores duplicados en la base*"
      ],
      "metadata": {
        "id": "SAJt4XRpMxVW"
      }
    },
    {
      "cell_type": "code",
      "source": [
        "# Elimina los valores duplicados de todas las columnas\n",
        "df_wd = df.drop_duplicates()"
      ],
      "metadata": {
        "id": "tox2Qm0pOPgT"
      },
      "execution_count": null,
      "outputs": []
    },
    {
      "cell_type": "code",
      "source": [
        "df_wd.shape"
      ],
      "metadata": {
        "id": "YiY8q9a0ObD3"
      },
      "execution_count": null,
      "outputs": []
    },
    {
      "cell_type": "code",
      "source": [
        "df_wd.dtypes"
      ],
      "metadata": {
        "id": "yfVe1mmLOhr2"
      },
      "execution_count": null,
      "outputs": []
    },
    {
      "cell_type": "markdown",
      "source": [
        "*Encontrar valores NaN en la base de datos*"
      ],
      "metadata": {
        "id": "UrpnB-3ANSKk"
      }
    },
    {
      "cell_type": "code",
      "source": [
        "# Crea un diccionario con el número de datos NaN por columna\n",
        "nan_values_by_column = df_wd.isna().sum().to_dict()\n",
        "\n",
        "# Imprime el resumen de cada columna\n",
        "for column, nan_values in nan_values_by_column.items():\n",
        "    print(f\"Columna: {column} | Número de datos NaN: {nan_values}\")"
      ],
      "metadata": {
        "id": "At1fzbfSPJts"
      },
      "execution_count": null,
      "outputs": []
    },
    {
      "cell_type": "markdown",
      "source": [
        "*Seleccionar el dataframe con 5 variables para trabajar. Por fidelidad de los datos se buscará trabajar con las más completas para poder evitar la mayor cantidad de imputación de datos, así como los datos faltantes*"
      ],
      "metadata": {
        "id": "y8j956LNSNWl"
      }
    },
    {
      "cell_type": "code",
      "source": [
        "new_df = df_wd[[\"country\", \"incomeperperson\", \"alcconsumption\", \"breastcancerper100th\",\"armedforcesrate\",\"lifeexpectancy\", \"suicideper100th\", \"urbanrate\", \"employrate\"]]\n"
      ],
      "metadata": {
        "id": "4qswK8hPQLM5"
      },
      "execution_count": null,
      "outputs": []
    },
    {
      "cell_type": "code",
      "source": [
        "new_df.loc[df['country'] == 'Afghanistan', 'incomeperperson'] = 1824\n",
        "new_df.loc[df['country'] == 'Myanmar', 'incomeperperson'] = 3851\n",
        "new_df.loc[df['country'] == 'Kuwait', 'incomeperperson'] = 52920\n",
        "new_df.loc[df['country'] == 'Djibouti', 'employrate'] = 24.068"
      ],
      "metadata": {
        "id": "gjcJd2xj3Wrd"
      },
      "execution_count": null,
      "outputs": []
    },
    {
      "cell_type": "code",
      "source": [
        "# Crea un diccionario con el número de datos NaN por columna\n",
        "nan_values_by_column = new_df.isna().sum().to_dict()\n",
        "\n",
        "# Imprime el resumen de cada columna\n",
        "for column, nan_values in nan_values_by_column.items():\n",
        "    print(f\"Columna: {column} | Número de datos NaN: {nan_values}\")"
      ],
      "metadata": {
        "id": "78VTQLzYSjr7"
      },
      "execution_count": null,
      "outputs": []
    },
    {
      "cell_type": "code",
      "source": [
        "new_df.loc[new_df['country'] == 'Timor-Leste', 'breastcancerper100th'] = 27.4"
      ],
      "metadata": {
        "id": "ON6bthn4uFBy"
      },
      "execution_count": null,
      "outputs": []
    },
    {
      "cell_type": "code",
      "source": [
        "# Usar indexación booleana para encontrar los países con NaN en \"hdi_2010\"\n",
        "paises_con_nan = new_df[new_df['breastcancerper100th'].isna()]['country']\n",
        "\n",
        "# Esto creará una serie con los nombres de los países que tienen NaN en \"hdi_2010\"\n",
        "print(\"Países con NaN en la columna 'breastcancerper100th':\")\n",
        "print(paises_con_nan)"
      ],
      "metadata": {
        "id": "7Y4ksUPZto_L"
      },
      "execution_count": null,
      "outputs": []
    },
    {
      "cell_type": "code",
      "source": [
        "new_df.loc[new_df['country'] == \"Swaziland\", 'armedforcesrate'] = 0\n",
        "new_df.loc[new_df['country'] == \"Solomon Islands\", 'armedforcesrate'] = 0\n",
        "new_df.loc[new_df['country'] == \"Bhutan\", 'armedforcesrate'] = 0\n",
        "new_df.loc[new_df['country'] == \"Comoros\", 'armedforcesrate'] = 0"
      ],
      "metadata": {
        "id": "9zYPhcbIvTLt"
      },
      "execution_count": null,
      "outputs": []
    },
    {
      "cell_type": "code",
      "source": [
        "# Usar indexación booleana para encontrar los países con NaN en \"hdi_2010\"\n",
        "paises_con_nan = new_df[new_df['armedforcesrate'].isna()]['country']\n",
        "\n",
        "# Esto creará una serie con los nombres de los países que tienen NaN en \"hdi_2010\"\n",
        "print(\"Países con NaN en la columna 'armedforcesrate':\")\n",
        "print(paises_con_nan)"
      ],
      "metadata": {
        "id": "738BHvuCuRGu"
      },
      "execution_count": null,
      "outputs": []
    },
    {
      "cell_type": "markdown",
      "source": [
        "*Complemento del dataset con Indice de Desarrollo Humano y Regiones de cada país*"
      ],
      "metadata": {
        "id": "W5aiQXf3VyoA"
      }
    },
    {
      "cell_type": "code",
      "source": [
        "idh = pd.read_csv(\"./IDH.csv\", delimiter=\";\")"
      ],
      "metadata": {
        "id": "wOUVtMWVV7Iz"
      },
      "execution_count": null,
      "outputs": []
    },
    {
      "cell_type": "code",
      "source": [
        "idh.shape"
      ],
      "metadata": {
        "id": "wlQa2onxXg-j"
      },
      "execution_count": null,
      "outputs": []
    },
    {
      "cell_type": "code",
      "source": [
        "idh.dtypes\n"
      ],
      "metadata": {
        "id": "caQ4eKBsYVU5"
      },
      "execution_count": null,
      "outputs": []
    },
    {
      "cell_type": "code",
      "source": [
        "new_df3 = new_df.merge(idh, how=\"left\", on=\"country\")"
      ],
      "metadata": {
        "id": "lAVlPCUiXac3"
      },
      "execution_count": null,
      "outputs": []
    },
    {
      "cell_type": "code",
      "source": [
        "new_df3.loc[new_df3['country'] == 'Central African Rep.', 'hdi_2010'] = 0.404\n",
        "new_df3.loc[new_df3['country'] == 'Macedonia, FYR', 'hdi_2010'] = 0.770\n",
        "new_df3.loc[new_df3['country'] == 'Korea, Rep.', 'hdi_2010'] = 0.925\n",
        "new_df3.loc[new_df3['country'] == 'Cape Verde', 'hdi_2010'] = 0.662\n",
        "new_df3.loc[new_df3['country'] == 'Yemen, Rep.', 'hdi_2010'] = 0.455\n",
        "new_df3.loc[new_df3['country'] == 'Congo, Dem. Rep.', 'hdi_2010'] = 0.479\n",
        "new_df3.loc[new_df3['country'] == 'Congo, Rep.', 'hdi_2010'] = 0.571\n",
        "new_df3.loc[new_df3['country'] == 'Dominican Rep.', 'hdi_2010'] = 0.767\n",
        "new_df3.loc[new_df3['country'] == 'Czech Rep.', 'hdi_2010'] = 0.889"
      ],
      "metadata": {
        "id": "3QUwQ55u-GSX"
      },
      "execution_count": null,
      "outputs": []
    },
    {
      "cell_type": "code",
      "source": [
        "new_df3.sample(166)"
      ],
      "metadata": {
        "id": "smxZp-zHaCaV"
      },
      "execution_count": null,
      "outputs": []
    },
    {
      "cell_type": "code",
      "source": [
        "new_df3.dtypes"
      ],
      "metadata": {
        "id": "vpnATK2RdIMd"
      },
      "execution_count": null,
      "outputs": []
    },
    {
      "cell_type": "code",
      "source": [
        "new_df3.shape"
      ],
      "metadata": {
        "id": "vDeOyRiGxNtY"
      },
      "execution_count": null,
      "outputs": []
    },
    {
      "cell_type": "code",
      "source": [
        "# Usar indexación booleana para encontrar los países con NaN en \"region\"\n",
        "paises_con_nan = new_df3[new_df3['region'].isna()]['country']\n",
        "\n",
        "# Esto creará una serie con los nombres de los países que tienen NaN en \"region\"\n",
        "print(\"Países con NaN en la columna 'region':\")\n",
        "print(paises_con_nan)"
      ],
      "metadata": {
        "id": "LAsBSsoO5Kdu"
      },
      "execution_count": null,
      "outputs": []
    },
    {
      "cell_type": "code",
      "source": [
        "new_df3.loc[new_df3['country'] == 'Central African Rep.', 'region'] = \"SSA\"\n",
        "new_df3.loc[new_df3['country'] == 'Macedonia, FYR', 'region'] = \"ECA\"\n",
        "new_df3.loc[new_df3['country'] == 'Korea, Rep.', 'region'] = \"EAP\"\n",
        "new_df3.loc[new_df3['country'] == 'Cape Verde', 'region'] = \"SSA\"\n",
        "new_df3.loc[new_df3['country'] == 'Yemen, Rep.', 'region'] = \"AS\"\n",
        "new_df3.loc[new_df3['country'] == 'Congo, Dem. Rep.', 'region'] = \"SSA\"\n",
        "new_df3.loc[new_df3['country'] == 'Congo, Rep.', 'region'] = \"SSA\"\n",
        "new_df3.loc[new_df3['country'] == 'Dominican Rep.', 'region'] = \"LAC\"\n",
        "new_df3.loc[new_df3['country'] == 'Czech Rep.', 'region'] = \"ECA\""
      ],
      "metadata": {
        "id": "42uhf_M25X7h"
      },
      "execution_count": null,
      "outputs": []
    },
    {
      "cell_type": "code",
      "source": [
        "new_df3 = new_df3.drop(columns=['hdicode'])"
      ],
      "metadata": {
        "id": "JLhmMYs96X4D"
      },
      "execution_count": null,
      "outputs": []
    },
    {
      "cell_type": "code",
      "source": [
        "new_df3.sample(166)"
      ],
      "metadata": {
        "id": "8UvnRh2y5n5D"
      },
      "execution_count": null,
      "outputs": []
    },
    {
      "cell_type": "code",
      "source": [
        "new_df4 = new_df3[[\"country\", \"incomeperperson\", \"alcconsumption\", \"lifeexpectancy\",\"breastcancerper100th\", \"armedforcesrate\",\"suicideper100th\", \"urbanrate\", \"employrate\",\"region\",\"hdi_2010\"]]"
      ],
      "metadata": {
        "id": "x8OP7RTAd-VO"
      },
      "execution_count": null,
      "outputs": []
    },
    {
      "cell_type": "code",
      "source": [
        "new_df4.sample(10)"
      ],
      "metadata": {
        "id": "qVEb5HTDc0cB"
      },
      "execution_count": null,
      "outputs": []
    },
    {
      "cell_type": "code",
      "source": [
        "new_df4.shape"
      ],
      "metadata": {
        "id": "fM8dxmVXt2vG"
      },
      "execution_count": null,
      "outputs": []
    },
    {
      "cell_type": "code",
      "source": [
        "new_df4.dtypes"
      ],
      "metadata": {
        "id": "74V9zFmlePkR"
      },
      "execution_count": null,
      "outputs": []
    },
    {
      "cell_type": "code",
      "source": [
        "# Calcula la matriz de correlación\n",
        "correlation_matrix = new_df4.corr()\n",
        "\n",
        "# Visualiza la matriz de correlación usando seaborn\n",
        "plt.figure(figsize=(12, 8))\n",
        "sns.heatmap(correlation_matrix, annot=True, cmap='coolwarm', vmin=-1, vmax=1)\n",
        "plt.title('Matriz de Correlación')\n",
        "plt.show()"
      ],
      "metadata": {
        "id": "02lHry4gjdgX"
      },
      "execution_count": null,
      "outputs": []
    },
    {
      "cell_type": "code",
      "source": [
        "# Aplicar una transformación logarítmica a la variable \"incomeperperson\"\n",
        "new_df4['incomeperperson_log'] = np.log(new_df4['incomeperperson'])\n",
        "\n",
        "# Visualizar el DataFrame con la nueva columna logarítmica\n",
        "print(new_df4[['country', 'incomeperperson', 'incomeperperson_log']])"
      ],
      "metadata": {
        "id": "tECaik-v_ez3"
      },
      "execution_count": null,
      "outputs": []
    },
    {
      "cell_type": "code",
      "source": [
        "nan_values = new_df4.isna()\n",
        "cantidad_nan = nan_values.sum().sum()\n",
        "print(\"Cantidad de valores NaN en el DataFrame:\", cantidad_nan)"
      ],
      "metadata": {
        "id": "zPT_yVmu5MtO"
      },
      "execution_count": null,
      "outputs": []
    },
    {
      "cell_type": "code",
      "source": [
        "# Crea un diccionario con el número de datos NaN por columna\n",
        "nan_values_by_column = new_df4.isna().sum().to_dict()\n",
        "\n",
        "# Imprime el resumen de cada columna\n",
        "for column, nan_values in nan_values_by_column.items():\n",
        "    print(f\"Columna: {column} | Número de datos NaN: {nan_values}\")"
      ],
      "metadata": {
        "id": "FWcgCDLOgzu2"
      },
      "execution_count": null,
      "outputs": []
    },
    {
      "cell_type": "markdown",
      "source": [
        "**Análisis Univariado**"
      ],
      "metadata": {
        "id": "4ABsABedSxZL"
      }
    },
    {
      "cell_type": "code",
      "source": [
        "# Variables que deseas excluir\n",
        "excluir_columnas = [\"country\", \"region\"]\n",
        "\n",
        "# Genera un histograma para cada variable excluyendo \"country\" y \"region\"\n",
        "for column in new_df4.columns:\n",
        "    if column not in excluir_columnas:\n",
        "        fig, ax = plt.subplots(figsize=(12, 6))\n",
        "        new_df4[column].hist(ax=ax, bins=20)\n",
        "        ax.set_title(column)\n",
        "        plt.show()"
      ],
      "metadata": {
        "id": "FEbLBUJ3SxCc"
      },
      "execution_count": null,
      "outputs": []
    },
    {
      "cell_type": "markdown",
      "source": [
        "**Haciendo la regresión lineal**"
      ],
      "metadata": {
        "id": "ywGSGVKufrC5"
      }
    },
    {
      "cell_type": "code",
      "source": [
        "# Crear un modelo de regresión lineal\n",
        "modelo = LinearRegression()"
      ],
      "metadata": {
        "id": "8Wm5I1U3gd_t"
      },
      "execution_count": null,
      "outputs": []
    },
    {
      "cell_type": "code",
      "source": [
        "y = new_df4[\"incomeperperson_log\"].values.reshape(-1, 1)"
      ],
      "metadata": {
        "id": "n8oj7m6fftnh"
      },
      "execution_count": null,
      "outputs": []
    },
    {
      "cell_type": "code",
      "source": [
        "X = new_df4[[\"alcconsumption\", \"lifeexpectancy\",\"breastcancerper100th\", \"armedforcesrate\",\"suicideper100th\", \"urbanrate\", \"employrate\",\"hdi_2010\"]].values"
      ],
      "metadata": {
        "id": "M_tpv1xogD5c"
      },
      "execution_count": null,
      "outputs": []
    },
    {
      "cell_type": "code",
      "source": [
        "X.shape"
      ],
      "metadata": {
        "id": "UhXN4tyojV3-"
      },
      "execution_count": null,
      "outputs": []
    },
    {
      "cell_type": "code",
      "source": [
        "y.shape"
      ],
      "metadata": {
        "id": "Zqu0Duj-jwiw"
      },
      "execution_count": null,
      "outputs": []
    },
    {
      "cell_type": "code",
      "source": [
        "# Añadir una constante a X (esto añade la columna para el término de intercepto)\n",
        "X_constante = sm.add_constant(X)\n",
        "\n",
        "# Ajustar el modelo\n",
        "modelo_statsmodels = sm.OLS(y, X_constante).fit()\n",
        "\n",
        "# Imprimir el resumen\n",
        "print(modelo_statsmodels.summary())"
      ],
      "metadata": {
        "id": "5YYFaGTdgiyj"
      },
      "execution_count": null,
      "outputs": []
    },
    {
      "cell_type": "markdown",
      "source": [
        "\n",
        "**Regresión lineal ajustada por parámetros**\n"
      ],
      "metadata": {
        "id": "N3xPai9vAlNt"
      }
    },
    {
      "cell_type": "code",
      "source": [
        "y2 = new_df4[\"incomeperperson_log\"].values.reshape(-1, 1)"
      ],
      "metadata": {
        "id": "RhomwcUUhtOf"
      },
      "execution_count": null,
      "outputs": []
    },
    {
      "cell_type": "code",
      "source": [
        "X2 = new_df4[[\"alcconsumption\",\"armedforcesrate\",\"urbanrate\",\"hdi_2010\"]].values"
      ],
      "metadata": {
        "id": "mZY233a9h1XA"
      },
      "execution_count": null,
      "outputs": []
    },
    {
      "cell_type": "code",
      "source": [
        "# Añadir una constante a X (esto añade la columna para el término de intercepto)\n",
        "X2_constante = sm.add_constant(X2)\n",
        "modelo_statsmodels = sm.OLS(y2, X2_constante).fit()\n",
        "print(modelo_statsmodels.summary())"
      ],
      "metadata": {
        "id": "VRqr3s_7h7pj"
      },
      "execution_count": null,
      "outputs": []
    }
  ]
}